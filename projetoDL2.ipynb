{
 "cells": [
  {
   "cell_type": "markdown",
   "metadata": {
    "id": "XOdUXxmKMTLO"
   },
   "source": [
    "Bibliotecas"
   ]
  },
  {
   "cell_type": "code",
   "execution_count": null,
   "metadata": {
    "colab": {
     "base_uri": "https://localhost:8080/"
    },
    "id": "g55SXS1Kb7Ll",
    "outputId": "c0c9f8df-001b-452d-afc4-b597f3b787fe"
   },
   "outputs": [
    {
     "name": "stdout",
     "output_type": "stream",
     "text": [
      "Requirement already satisfied: datasets in /usr/local/lib/python3.11/dist-packages (2.14.4)\n",
      "Requirement already satisfied: transformers in /usr/local/lib/python3.11/dist-packages (4.51.3)\n",
      "Requirement already satisfied: nltk in /usr/local/lib/python3.11/dist-packages (3.9.1)\n",
      "Requirement already satisfied: numpy>=1.17 in /usr/local/lib/python3.11/dist-packages (from datasets) (2.0.2)\n",
      "Requirement already satisfied: pyarrow>=8.0.0 in /usr/local/lib/python3.11/dist-packages (from datasets) (18.1.0)\n",
      "Requirement already satisfied: dill<0.3.8,>=0.3.0 in /usr/local/lib/python3.11/dist-packages (from datasets) (0.3.7)\n",
      "Requirement already satisfied: pandas in /usr/local/lib/python3.11/dist-packages (from datasets) (2.2.2)\n",
      "Requirement already satisfied: requests>=2.19.0 in /usr/local/lib/python3.11/dist-packages (from datasets) (2.32.3)\n",
      "Requirement already satisfied: tqdm>=4.62.1 in /usr/local/lib/python3.11/dist-packages (from datasets) (4.67.1)\n",
      "Requirement already satisfied: xxhash in /usr/local/lib/python3.11/dist-packages (from datasets) (3.5.0)\n",
      "Requirement already satisfied: multiprocess in /usr/local/lib/python3.11/dist-packages (from datasets) (0.70.15)\n",
      "Requirement already satisfied: fsspec>=2021.11.1 in /usr/local/lib/python3.11/dist-packages (from fsspec[http]>=2021.11.1->datasets) (2025.3.2)\n",
      "Requirement already satisfied: aiohttp in /usr/local/lib/python3.11/dist-packages (from datasets) (3.11.15)\n",
      "Requirement already satisfied: huggingface-hub<1.0.0,>=0.14.0 in /usr/local/lib/python3.11/dist-packages (from datasets) (0.31.2)\n",
      "Requirement already satisfied: packaging in /usr/local/lib/python3.11/dist-packages (from datasets) (24.2)\n",
      "Requirement already satisfied: pyyaml>=5.1 in /usr/local/lib/python3.11/dist-packages (from datasets) (6.0.2)\n",
      "Requirement already satisfied: filelock in /usr/local/lib/python3.11/dist-packages (from transformers) (3.18.0)\n",
      "Requirement already satisfied: regex!=2019.12.17 in /usr/local/lib/python3.11/dist-packages (from transformers) (2024.11.6)\n",
      "Requirement already satisfied: tokenizers<0.22,>=0.21 in /usr/local/lib/python3.11/dist-packages (from transformers) (0.21.1)\n",
      "Requirement already satisfied: safetensors>=0.4.3 in /usr/local/lib/python3.11/dist-packages (from transformers) (0.5.3)\n",
      "Requirement already satisfied: click in /usr/local/lib/python3.11/dist-packages (from nltk) (8.2.0)\n",
      "Requirement already satisfied: joblib in /usr/local/lib/python3.11/dist-packages (from nltk) (1.5.0)\n",
      "Requirement already satisfied: aiohappyeyeballs>=2.3.0 in /usr/local/lib/python3.11/dist-packages (from aiohttp->datasets) (2.6.1)\n",
      "Requirement already satisfied: aiosignal>=1.1.2 in /usr/local/lib/python3.11/dist-packages (from aiohttp->datasets) (1.3.2)\n",
      "Requirement already satisfied: attrs>=17.3.0 in /usr/local/lib/python3.11/dist-packages (from aiohttp->datasets) (25.3.0)\n",
      "Requirement already satisfied: frozenlist>=1.1.1 in /usr/local/lib/python3.11/dist-packages (from aiohttp->datasets) (1.6.0)\n",
      "Requirement already satisfied: multidict<7.0,>=4.5 in /usr/local/lib/python3.11/dist-packages (from aiohttp->datasets) (6.4.3)\n",
      "Requirement already satisfied: propcache>=0.2.0 in /usr/local/lib/python3.11/dist-packages (from aiohttp->datasets) (0.3.1)\n",
      "Requirement already satisfied: yarl<2.0,>=1.17.0 in /usr/local/lib/python3.11/dist-packages (from aiohttp->datasets) (1.20.0)\n",
      "Requirement already satisfied: typing-extensions>=3.7.4.3 in /usr/local/lib/python3.11/dist-packages (from huggingface-hub<1.0.0,>=0.14.0->datasets) (4.13.2)\n",
      "Requirement already satisfied: charset-normalizer<4,>=2 in /usr/local/lib/python3.11/dist-packages (from requests>=2.19.0->datasets) (3.4.2)\n",
      "Requirement already satisfied: idna<4,>=2.5 in /usr/local/lib/python3.11/dist-packages (from requests>=2.19.0->datasets) (3.10)\n",
      "Requirement already satisfied: urllib3<3,>=1.21.1 in /usr/local/lib/python3.11/dist-packages (from requests>=2.19.0->datasets) (2.4.0)\n",
      "Requirement already satisfied: certifi>=2017.4.17 in /usr/local/lib/python3.11/dist-packages (from requests>=2.19.0->datasets) (2025.4.26)\n",
      "Requirement already satisfied: python-dateutil>=2.8.2 in /usr/local/lib/python3.11/dist-packages (from pandas->datasets) (2.9.0.post0)\n",
      "Requirement already satisfied: pytz>=2020.1 in /usr/local/lib/python3.11/dist-packages (from pandas->datasets) (2025.2)\n",
      "Requirement already satisfied: tzdata>=2022.7 in /usr/local/lib/python3.11/dist-packages (from pandas->datasets) (2025.2)\n",
      "Requirement already satisfied: six>=1.5 in /usr/local/lib/python3.11/dist-packages (from python-dateutil>=2.8.2->pandas->datasets) (1.17.0)\n",
      "Requirement already satisfied: datasets in /usr/local/lib/python3.11/dist-packages (2.14.4)\n",
      "Collecting datasets\n",
      "  Downloading datasets-3.6.0-py3-none-any.whl.metadata (19 kB)\n",
      "Requirement already satisfied: huggingface_hub in /usr/local/lib/python3.11/dist-packages (0.31.2)\n",
      "Collecting huggingface_hub\n",
      "  Downloading huggingface_hub-0.31.4-py3-none-any.whl.metadata (13 kB)\n",
      "Requirement already satisfied: filelock in /usr/local/lib/python3.11/dist-packages (from datasets) (3.18.0)\n",
      "Requirement already satisfied: numpy>=1.17 in /usr/local/lib/python3.11/dist-packages (from datasets) (2.0.2)\n",
      "Requirement already satisfied: pyarrow>=15.0.0 in /usr/local/lib/python3.11/dist-packages (from datasets) (18.1.0)\n",
      "Requirement already satisfied: dill<0.3.9,>=0.3.0 in /usr/local/lib/python3.11/dist-packages (from datasets) (0.3.7)\n",
      "Requirement already satisfied: pandas in /usr/local/lib/python3.11/dist-packages (from datasets) (2.2.2)\n",
      "Requirement already satisfied: requests>=2.32.2 in /usr/local/lib/python3.11/dist-packages (from datasets) (2.32.3)\n",
      "Requirement already satisfied: tqdm>=4.66.3 in /usr/local/lib/python3.11/dist-packages (from datasets) (4.67.1)\n",
      "Requirement already satisfied: xxhash in /usr/local/lib/python3.11/dist-packages (from datasets) (3.5.0)\n",
      "Requirement already satisfied: multiprocess<0.70.17 in /usr/local/lib/python3.11/dist-packages (from datasets) (0.70.15)\n",
      "Collecting fsspec<=2025.3.0,>=2023.1.0 (from fsspec[http]<=2025.3.0,>=2023.1.0->datasets)\n",
      "  Downloading fsspec-2025.3.0-py3-none-any.whl.metadata (11 kB)\n",
      "Requirement already satisfied: packaging in /usr/local/lib/python3.11/dist-packages (from datasets) (24.2)\n",
      "Requirement already satisfied: pyyaml>=5.1 in /usr/local/lib/python3.11/dist-packages (from datasets) (6.0.2)\n",
      "Requirement already satisfied: typing-extensions>=3.7.4.3 in /usr/local/lib/python3.11/dist-packages (from huggingface_hub) (4.13.2)\n",
      "Requirement already satisfied: aiohttp!=4.0.0a0,!=4.0.0a1 in /usr/local/lib/python3.11/dist-packages (from fsspec[http]<=2025.3.0,>=2023.1.0->datasets) (3.11.15)\n",
      "Requirement already satisfied: charset-normalizer<4,>=2 in /usr/local/lib/python3.11/dist-packages (from requests>=2.32.2->datasets) (3.4.2)\n",
      "Requirement already satisfied: idna<4,>=2.5 in /usr/local/lib/python3.11/dist-packages (from requests>=2.32.2->datasets) (3.10)\n",
      "Requirement already satisfied: urllib3<3,>=1.21.1 in /usr/local/lib/python3.11/dist-packages (from requests>=2.32.2->datasets) (2.4.0)\n",
      "Requirement already satisfied: certifi>=2017.4.17 in /usr/local/lib/python3.11/dist-packages (from requests>=2.32.2->datasets) (2025.4.26)\n",
      "Requirement already satisfied: python-dateutil>=2.8.2 in /usr/local/lib/python3.11/dist-packages (from pandas->datasets) (2.9.0.post0)\n",
      "Requirement already satisfied: pytz>=2020.1 in /usr/local/lib/python3.11/dist-packages (from pandas->datasets) (2025.2)\n",
      "Requirement already satisfied: tzdata>=2022.7 in /usr/local/lib/python3.11/dist-packages (from pandas->datasets) (2025.2)\n",
      "Requirement already satisfied: aiohappyeyeballs>=2.3.0 in /usr/local/lib/python3.11/dist-packages (from aiohttp!=4.0.0a0,!=4.0.0a1->fsspec[http]<=2025.3.0,>=2023.1.0->datasets) (2.6.1)\n",
      "Requirement already satisfied: aiosignal>=1.1.2 in /usr/local/lib/python3.11/dist-packages (from aiohttp!=4.0.0a0,!=4.0.0a1->fsspec[http]<=2025.3.0,>=2023.1.0->datasets) (1.3.2)\n",
      "Requirement already satisfied: attrs>=17.3.0 in /usr/local/lib/python3.11/dist-packages (from aiohttp!=4.0.0a0,!=4.0.0a1->fsspec[http]<=2025.3.0,>=2023.1.0->datasets) (25.3.0)\n",
      "Requirement already satisfied: frozenlist>=1.1.1 in /usr/local/lib/python3.11/dist-packages (from aiohttp!=4.0.0a0,!=4.0.0a1->fsspec[http]<=2025.3.0,>=2023.1.0->datasets) (1.6.0)\n",
      "Requirement already satisfied: multidict<7.0,>=4.5 in /usr/local/lib/python3.11/dist-packages (from aiohttp!=4.0.0a0,!=4.0.0a1->fsspec[http]<=2025.3.0,>=2023.1.0->datasets) (6.4.3)\n",
      "Requirement already satisfied: propcache>=0.2.0 in /usr/local/lib/python3.11/dist-packages (from aiohttp!=4.0.0a0,!=4.0.0a1->fsspec[http]<=2025.3.0,>=2023.1.0->datasets) (0.3.1)\n",
      "Requirement already satisfied: yarl<2.0,>=1.17.0 in /usr/local/lib/python3.11/dist-packages (from aiohttp!=4.0.0a0,!=4.0.0a1->fsspec[http]<=2025.3.0,>=2023.1.0->datasets) (1.20.0)\n",
      "Requirement already satisfied: six>=1.5 in /usr/local/lib/python3.11/dist-packages (from python-dateutil>=2.8.2->pandas->datasets) (1.17.0)\n",
      "Downloading datasets-3.6.0-py3-none-any.whl (491 kB)\n",
      "\u001b[2K   \u001b[90m━━━━━━━━━━━━━━━━━━━━━━━━━━━━━━━━━━━━━━━━\u001b[0m \u001b[32m491.5/491.5 kB\u001b[0m \u001b[31m7.0 MB/s\u001b[0m eta \u001b[36m0:00:00\u001b[0m\n",
      "\u001b[?25hDownloading huggingface_hub-0.31.4-py3-none-any.whl (489 kB)\n",
      "\u001b[2K   \u001b[90m━━━━━━━━━━━━━━━━━━━━━━━━━━━━━━━━━━━━━━━━\u001b[0m \u001b[32m489.3/489.3 kB\u001b[0m \u001b[31m17.7 MB/s\u001b[0m eta \u001b[36m0:00:00\u001b[0m\n",
      "\u001b[?25hDownloading fsspec-2025.3.0-py3-none-any.whl (193 kB)\n",
      "\u001b[2K   \u001b[90m━━━━━━━━━━━━━━━━━━━━━━━━━━━━━━━━━━━━━━━━\u001b[0m \u001b[32m193.6/193.6 kB\u001b[0m \u001b[31m11.0 MB/s\u001b[0m eta \u001b[36m0:00:00\u001b[0m\n",
      "\u001b[?25hInstalling collected packages: fsspec, huggingface_hub, datasets\n",
      "  Attempting uninstall: fsspec\n",
      "    Found existing installation: fsspec 2025.3.2\n",
      "    Uninstalling fsspec-2025.3.2:\n",
      "      Successfully uninstalled fsspec-2025.3.2\n",
      "  Attempting uninstall: huggingface_hub\n",
      "    Found existing installation: huggingface-hub 0.31.2\n",
      "    Uninstalling huggingface-hub-0.31.2:\n",
      "      Successfully uninstalled huggingface-hub-0.31.2\n",
      "  Attempting uninstall: datasets\n",
      "    Found existing installation: datasets 2.14.4\n",
      "    Uninstalling datasets-2.14.4:\n",
      "      Successfully uninstalled datasets-2.14.4\n",
      "\u001b[31mERROR: pip's dependency resolver does not currently take into account all the packages that are installed. This behaviour is the source of the following dependency conflicts.\n",
      "torch 2.6.0+cu124 requires nvidia-cublas-cu12==12.4.5.8; platform_system == \"Linux\" and platform_machine == \"x86_64\", but you have nvidia-cublas-cu12 12.5.3.2 which is incompatible.\n",
      "torch 2.6.0+cu124 requires nvidia-cuda-cupti-cu12==12.4.127; platform_system == \"Linux\" and platform_machine == \"x86_64\", but you have nvidia-cuda-cupti-cu12 12.5.82 which is incompatible.\n",
      "torch 2.6.0+cu124 requires nvidia-cuda-nvrtc-cu12==12.4.127; platform_system == \"Linux\" and platform_machine == \"x86_64\", but you have nvidia-cuda-nvrtc-cu12 12.5.82 which is incompatible.\n",
      "torch 2.6.0+cu124 requires nvidia-cuda-runtime-cu12==12.4.127; platform_system == \"Linux\" and platform_machine == \"x86_64\", but you have nvidia-cuda-runtime-cu12 12.5.82 which is incompatible.\n",
      "torch 2.6.0+cu124 requires nvidia-cudnn-cu12==9.1.0.70; platform_system == \"Linux\" and platform_machine == \"x86_64\", but you have nvidia-cudnn-cu12 9.3.0.75 which is incompatible.\n",
      "torch 2.6.0+cu124 requires nvidia-cufft-cu12==11.2.1.3; platform_system == \"Linux\" and platform_machine == \"x86_64\", but you have nvidia-cufft-cu12 11.2.3.61 which is incompatible.\n",
      "torch 2.6.0+cu124 requires nvidia-curand-cu12==10.3.5.147; platform_system == \"Linux\" and platform_machine == \"x86_64\", but you have nvidia-curand-cu12 10.3.6.82 which is incompatible.\n",
      "torch 2.6.0+cu124 requires nvidia-cusolver-cu12==11.6.1.9; platform_system == \"Linux\" and platform_machine == \"x86_64\", but you have nvidia-cusolver-cu12 11.6.3.83 which is incompatible.\n",
      "torch 2.6.0+cu124 requires nvidia-cusparse-cu12==12.3.1.170; platform_system == \"Linux\" and platform_machine == \"x86_64\", but you have nvidia-cusparse-cu12 12.5.1.3 which is incompatible.\n",
      "torch 2.6.0+cu124 requires nvidia-nvjitlink-cu12==12.4.127; platform_system == \"Linux\" and platform_machine == \"x86_64\", but you have nvidia-nvjitlink-cu12 12.5.82 which is incompatible.\n",
      "gcsfs 2025.3.2 requires fsspec==2025.3.2, but you have fsspec 2025.3.0 which is incompatible.\u001b[0m\u001b[31m\n",
      "\u001b[0mSuccessfully installed datasets-3.6.0 fsspec-2025.3.0 huggingface_hub-0.31.4\n"
     ]
    }
   ],
   "source": [
    "# Instalar bibliotecas (caso necessário)\n",
    "!pip install datasets transformers nltk\n",
    "!pip install -U datasets huggingface_hub\n",
    "\n",
    "\n",
    "# Imports principais\n",
    "import numpy as np\n",
    "import pandas as pd\n",
    "import torch\n",
    "import nltk\n",
    "import matplotlib.pyplot as plt\n",
    "from datasets import load_dataset\n",
    "from sklearn.model_selection import train_test_split\n",
    "from sklearn.metrics import classification_report, confusion_matrix, ConfusionMatrixDisplay\n",
    "from sklearn.utils.class_weight import compute_class_weight\n",
    "import seaborn as sns\n",
    "import torch.nn as nn\n",
    "import torch.nn.functional as F\n",
    "import time"
   ]
  },
  {
   "cell_type": "markdown",
   "metadata": {
    "id": "d-DmT5w4MWyq"
   },
   "source": [
    "carregamento do dataset"
   ]
  },
  {
   "cell_type": "code",
   "execution_count": null,
   "metadata": {
    "colab": {
     "base_uri": "https://localhost:8080/",
     "height": 365,
     "referenced_widgets": [
      "f5dfccb9e49a4126b97e21352589bdb7",
      "6ee79a6603e941289b334e51f779d2f3",
      "a49d0328b82349798936df5e797ffb46",
      "0f5425e398ac4d53af561d762ec05672",
      "ab81d864e2b244ed9fcefa5b236e5739",
      "a93306b49caa414991a8d97c922cf15e",
      "309e782414534858bdc3091e7a0430ac",
      "8ceaa407c24d4c8b87d66f0a07d9d05d",
      "e27015d160bc49b8bb28e27cbbd7507c",
      "16e29f89bb974daab5fb7146848b6aa5",
      "10cdf2fbc534461ca12d98a5dc018d9f",
      "de44788758854efe8f5eac13b9843ba6",
      "1d827cede6154c20aab26d4ef045afbf",
      "f00370e27af94c41b1d1005c4506169e",
      "d5f045542e714a0a8861ebaa19d9ba6e",
      "e3f57e6d0a204848a5842f6858e2987e",
      "c64642afdc2d4a8c9c8cc76e0f5df977",
      "2fa1b466dfb444e8889d063dee31994d",
      "3ff5296d91eb4b7b8b2c0f4ee02fe123",
      "346f4b93e76a44c4aa411bdcaf5fe9c3",
      "36d3d37caf9e4356860a1c455b25515b",
      "51d385b449244e0195c8a9bdd28cbde4",
      "da2e8458bbdf4bcea60f4f0a1c632c25",
      "108ee89be6664e4ead2189b27f8c953c",
      "f8ba7f9707134f279c521f3a404b423c",
      "488059c8ba37470eb7520539ce7148de",
      "dc8abcca182f423cb4c2e615567b53f7",
      "a65bb6efd0024eb7b234d44951144d1e",
      "11dd14b704614b54a7adcaf052ae14c8",
      "0de41eba51024a7aabaff24b3a2c962c",
      "e7f015c1127b4b2cb55c0b66969d81ea",
      "28bfa69a039b4294ba86f0065e998f04",
      "5acf0aa077d345e69c8b3caccf29460d",
      "f2db9aae1d9240cda1a4527b181b8f6d",
      "626d5fdc01ba4a84a2018c5a5d592362",
      "8bd48ddba2424d3ab44c416199f77112",
      "f8e5d574669e44e1b172f8f6a9aba507",
      "2fc11997e309458a9d5f297282f1ab3b",
      "2f248cecc0c74885b6ef43cd7924105d",
      "845081157f9b4960a48b76daf7e2db5d",
      "358551ab7e4249fcbd2d62532b31fc53",
      "6f180260378c4d47ae2ab0c112ea533e",
      "ceba8c7bd64e4f508fb327aa6303919c",
      "06953baba1334abfaeefbb65ec0f8842",
      "b52b87390ce84935a85b5810adeb21cb",
      "4fa98600d2e84c2a8fa536de4f843ea4",
      "c0fce057803040f19afd97dd28409a42",
      "4679ff6c61fb4ab68d6b0bc603b3b3c6",
      "02f5c691bdc341899823e10446e5b1d4",
      "e0362f910d3b4e729b7e770669d01164",
      "bced48b45f614ffbbdee3b0ae3dc5076",
      "b83c3f0fd9324d649cd767c116e722df",
      "572f0290d11444cdacd97b5a96ab9826",
      "8c1be0d2fe4140768613642cb14791a6",
      "ef19303ec1b54ad795020b1f64b3727d",
      "f7499aa774c944c1b96c61370d04b10d",
      "e00d4755010d4ef9a7c34a4474de4d4d",
      "135ffe81c1c34442a5550b413294bfd6",
      "dc76e8bf7b504a369ce1b177d9989dde",
      "1016a28104dd49a1adb656e78f46939e",
      "b86e520abc6b499cbe5d3649f5e989be",
      "df0e5706f27c43ce88e88b3fce1fee61",
      "e40b2a319d3849289c1c4d7b496e32d4",
      "3bdfa8e063804683b4a3d34189451352",
      "206476b20d9d4c83981724e17853d0cb",
      "fa22dd9cd1fb42afaf2eff342a61282f",
      "9c291466f0c84463a495e9a080e18c0a",
      "ad8fd48ff1f440f9b0f46336bb75f5a3",
      "e150555a36df4369ae7f7c15173061d0",
      "88889d65f63f4c9d8bcbee486721bdb2",
      "03706cd085eb445c9835fe60f2ae8ee4",
      "77abb6d14a93455c80cf2847fdecca85",
      "f0e33597be564c20ac2a7bc5e1be96db",
      "bd38daccdcbd498a822a3c959ca24a3f",
      "a5df8e6a538248f694c6c6f40b055b9a",
      "6cb593491bc440678a00c09723c405a9",
      "30dfd505ffa540bc961d9a2ded586150"
     ]
    },
    "id": "vDCYDVTBiDGb",
    "outputId": "d32ee15e-33d1-476d-e014-a4e9561d9405"
   },
   "outputs": [
    {
     "name": "stderr",
     "output_type": "stream",
     "text": [
      "/usr/local/lib/python3.11/dist-packages/huggingface_hub/utils/_auth.py:94: UserWarning: \n",
      "The secret `HF_TOKEN` does not exist in your Colab secrets.\n",
      "To authenticate with the Hugging Face Hub, create a token in your settings tab (https://huggingface.co/settings/tokens), set it as secret in your Google Colab and restart your session.\n",
      "You will be able to reuse this secret in all of your notebooks.\n",
      "Please note that authentication is recommended but still optional to access public models or datasets.\n",
      "  warnings.warn(\n"
     ]
    },
    {
     "data": {
      "application/vnd.jupyter.widget-view+json": {
       "model_id": "f5dfccb9e49a4126b97e21352589bdb7",
       "version_major": 2,
       "version_minor": 0
      },
      "text/plain": [
       "README.md:   0%|          | 0.00/9.05k [00:00<?, ?B/s]"
      ]
     },
     "metadata": {},
     "output_type": "display_data"
    },
    {
     "data": {
      "application/vnd.jupyter.widget-view+json": {
       "model_id": "de44788758854efe8f5eac13b9843ba6",
       "version_major": 2,
       "version_minor": 0
      },
      "text/plain": [
       "train-00000-of-00001.parquet:   0%|          | 0.00/1.03M [00:00<?, ?B/s]"
      ]
     },
     "metadata": {},
     "output_type": "display_data"
    },
    {
     "data": {
      "application/vnd.jupyter.widget-view+json": {
       "model_id": "da2e8458bbdf4bcea60f4f0a1c632c25",
       "version_major": 2,
       "version_minor": 0
      },
      "text/plain": [
       "validation-00000-of-00001.parquet:   0%|          | 0.00/127k [00:00<?, ?B/s]"
      ]
     },
     "metadata": {},
     "output_type": "display_data"
    },
    {
     "data": {
      "application/vnd.jupyter.widget-view+json": {
       "model_id": "f2db9aae1d9240cda1a4527b181b8f6d",
       "version_major": 2,
       "version_minor": 0
      },
      "text/plain": [
       "test-00000-of-00001.parquet:   0%|          | 0.00/129k [00:00<?, ?B/s]"
      ]
     },
     "metadata": {},
     "output_type": "display_data"
    },
    {
     "data": {
      "application/vnd.jupyter.widget-view+json": {
       "model_id": "b52b87390ce84935a85b5810adeb21cb",
       "version_major": 2,
       "version_minor": 0
      },
      "text/plain": [
       "Generating train split:   0%|          | 0/16000 [00:00<?, ? examples/s]"
      ]
     },
     "metadata": {},
     "output_type": "display_data"
    },
    {
     "data": {
      "application/vnd.jupyter.widget-view+json": {
       "model_id": "f7499aa774c944c1b96c61370d04b10d",
       "version_major": 2,
       "version_minor": 0
      },
      "text/plain": [
       "Generating validation split:   0%|          | 0/2000 [00:00<?, ? examples/s]"
      ]
     },
     "metadata": {},
     "output_type": "display_data"
    },
    {
     "data": {
      "application/vnd.jupyter.widget-view+json": {
       "model_id": "9c291466f0c84463a495e9a080e18c0a",
       "version_major": 2,
       "version_minor": 0
      },
      "text/plain": [
       "Generating test split:   0%|          | 0/2000 [00:00<?, ? examples/s]"
      ]
     },
     "metadata": {},
     "output_type": "display_data"
    }
   ],
   "source": [
    "dataset = load_dataset(\"dair-ai/emotion\", cache_dir=\"./hf_cache\")"
   ]
  },
  {
   "cell_type": "code",
   "execution_count": null,
   "metadata": {
    "colab": {
     "base_uri": "https://localhost:8080/",
     "height": 474
    },
    "id": "K2sq_fEoiLmo",
    "outputId": "4ca9cc47-49a7-494e-b436-62de510b8ec6"
   },
   "outputs": [
    {
     "data": {
      "image/png": "[encoded data removed]",
      "text/plain": [
       "<Figure size 640x480 with 1 Axes>"
      ]
     },
     "metadata": {},
     "output_type": "display_data"
    }
   ],
   "source": [
    "# Convertendo para pandas para facilitar a visualização\n",
    "df_train = pd.DataFrame(dataset[\"train\"])\n",
    "df_test = pd.DataFrame(dataset[\"test\"])\n",
    "df_val = pd.DataFrame(dataset[\"validation\"])\n",
    "\n",
    "# Visualizando o balanceamento de classes\n",
    "df_train[\"label\"].value_counts().plot(kind=\"bar\", title=\"Distribuição das Emoções\")\n",
    "plt.xticks(rotation=45)\n",
    "plt.show()\n"
   ]
  },
  {
   "cell_type": "code",
   "execution_count": null,
   "metadata": {
    "colab": {
     "base_uri": "https://localhost:8080/"
    },
    "id": "2cRXC1eiiUOI",
    "outputId": "5bfe94c0-e773-4629-db3d-7529ee8d4113"
   },
   "outputs": [
    {
     "name": "stdout",
     "output_type": "stream",
     "text": [
      "--2025-05-20 19:58:58--  http://nlp.stanford.edu/data/glove.twitter.27B.zip\n",
      "Resolving nlp.stanford.edu (nlp.stanford.edu)... 171.64.67.140\n",
      "Connecting to nlp.stanford.edu (nlp.stanford.edu)|171.64.67.140|:80... connected.\n",
      "HTTP request sent, awaiting response... 302 Found\n",
      "Location: https://nlp.stanford.edu/data/glove.twitter.27B.zip [following]\n",
      "--2025-05-20 19:58:59--  https://nlp.stanford.edu/data/glove.twitter.27B.zip\n",
      "Connecting to nlp.stanford.edu (nlp.stanford.edu)|171.64.67.140|:443... connected.\n",
      "HTTP request sent, awaiting response... 301 Moved Permanently\n",
      "Location: https://downloads.cs.stanford.edu/nlp/data/glove.twitter.27B.zip [following]\n",
      "--2025-05-20 19:58:59--  https://downloads.cs.stanford.edu/nlp/data/glove.twitter.27B.zip\n",
      "Resolving downloads.cs.stanford.edu (downloads.cs.stanford.edu)... 171.64.64.22\n",
      "Connecting to downloads.cs.stanford.edu (downloads.cs.stanford.edu)|171.64.64.22|:443... connected.\n",
      "HTTP request sent, awaiting response... 200 OK\n",
      "Length: 1520408563 (1.4G) [application/zip]\n",
      "Saving to: ‘glove.twitter.27B.zip’\n",
      "\n",
      "glove.twitter.27B.z 100%[===================>]   1.42G  5.01MB/s    in 4m 44s  \n",
      "\n",
      "2025-05-20 20:03:44 (5.10 MB/s) - ‘glove.twitter.27B.zip’ saved [1520408563/1520408563]\n",
      "\n",
      "Total palavras nos embeddings: 1193514\n"
     ]
    }
   ],
   "source": [
    "# Baixar e carregar GloVe embeddings (versão para Twitter 100d)\n",
    "!wget http://nlp.stanford.edu/data/glove.twitter.27B.zip\n",
    "!unzip -q glove.twitter.27B.zip\n",
    "\n",
    "# Carregando os vetores\n",
    "import numpy as np\n",
    "\n",
    "embedding_dim = 100\n",
    "glove_path = \"glove.twitter.27B.100d.txt\"\n",
    "embeddings_index = {}\n",
    "\n",
    "with open(glove_path, 'r', encoding=\"utf-8\") as f:\n",
    "    for line in f:\n",
    "        values = line.strip().split()\n",
    "        word = values[0]\n",
    "        coefs = np.asarray(values[1:], dtype='float32')\n",
    "        embeddings_index[word] = coefs\n",
    "\n",
    "print(f\"Total palavras nos embeddings: {len(embeddings_index)}\")\n"
   ]
  },
  {
   "cell_type": "code",
   "execution_count": null,
   "metadata": {
    "colab": {
     "base_uri": "https://localhost:8080/"
    },
    "id": "4kHEIyt-iW39",
    "outputId": "59f49794-d6b4-490d-a75f-84026739ddbd"
   },
   "outputs": [
    {
     "name": "stdout",
     "output_type": "stream",
     "text": [
      "Tamanho do vocabulário: 17098\n"
     ]
    }
   ],
   "source": [
    "from tensorflow.keras.preprocessing.text import Tokenizer\n",
    "from tensorflow.keras.preprocessing.sequence import pad_sequences\n",
    "\n",
    "# Juntando todos os textos para treinar o tokenizer\n",
    "texts = dataset[\"train\"][\"text\"] + dataset[\"validation\"][\"text\"] + dataset[\"test\"][\"text\"]\n",
    "\n",
    "# Configurando o tokenizer\n",
    "tokenizer = Tokenizer(oov_token=\"<OOV>\")\n",
    "tokenizer.fit_on_texts(texts)\n",
    "\n",
    "vocab_size = len(tokenizer.word_index) + 1\n",
    "print(f\"Tamanho do vocabulário: {vocab_size}\")\n"
   ]
  },
  {
   "cell_type": "code",
   "execution_count": null,
   "metadata": {
    "id": "i0c_gcsqiYXr"
   },
   "outputs": [],
   "source": [
    "# Função utilitária\n",
    "def encode_data(texts, labels, max_len=50):\n",
    "    sequences = tokenizer.texts_to_sequences(texts)\n",
    "    padded = pad_sequences(sequences, maxlen=max_len, padding='post')\n",
    "    return torch.tensor(padded), torch.tensor(labels)\n",
    "\n",
    "# Conjuntos\n",
    "X_train, y_train = encode_data(dataset[\"train\"][\"text\"], dataset[\"train\"][\"label\"])\n",
    "X_val, y_val = encode_data(dataset[\"validation\"][\"text\"], dataset[\"validation\"][\"label\"])\n",
    "X_test, y_test = encode_data(dataset[\"test\"][\"text\"], dataset[\"test\"][\"label\"])\n"
   ]
  },
  {
   "cell_type": "code",
   "execution_count": null,
   "metadata": {
    "id": "_YOIF5RziZ4f"
   },
   "outputs": [],
   "source": [
    "embedding_matrix = np.zeros((vocab_size, embedding_dim))\n",
    "for word, i in tokenizer.word_index.items():\n",
    "    embedding_vector = embeddings_index.get(word)\n",
    "    if embedding_vector is not None:\n",
    "        embedding_matrix[i] = embedding_vector\n"
   ]
  },
  {
   "cell_type": "markdown",
   "metadata": {
    "id": "Kv5hsoggM0cz"
   },
   "source": [
    "modelo LSTM"
   ]
  },
  {
   "cell_type": "code",
   "execution_count": null,
   "metadata": {
    "id": "MJWZdJltibcI"
   },
   "outputs": [],
   "source": [
    "import torch.nn as nn\n",
    "\n",
    "class EmotionLSTM(nn.Module):\n",
    "    def __init__(self, vocab_size, embedding_dim, hidden_dim, output_dim, embedding_matrix):\n",
    "        super(EmotionLSTM, self).__init__()\n",
    "        self.embedding = nn.Embedding.from_pretrained(torch.FloatTensor(embedding_matrix), freeze=False)\n",
    "        self.lstm = nn.LSTM(embedding_dim, hidden_dim, num_layers=2, batch_first=True, dropout=0.5)\n",
    "        self.dropout = nn.Dropout(0.5)\n",
    "        self.fc = nn.Linear(hidden_dim, output_dim)\n",
    "\n",
    "    def forward(self, x):\n",
    "        embedded = self.embedding(x)\n",
    "        lstm_out, _ = self.lstm(embedded)\n",
    "        last_hidden = lstm_out[:, -1, :]\n",
    "        out = self.dropout(last_hidden)\n",
    "        out = self.fc(out)\n",
    "        return out\n",
    "\n",
    "# Hiperparâmetros\n",
    "hidden_dim = 256\n",
    "output_dim = len(set(dataset[\"train\"][\"label\"]))\n",
    "\n",
    "model = EmotionLSTM(vocab_size, embedding_dim, hidden_dim, output_dim, embedding_matrix)\n"
   ]
  },
  {
   "cell_type": "markdown",
   "metadata": {
    "id": "SNISm2bONL9t"
   },
   "source": [
    "data loaders"
   ]
  },
  {
   "cell_type": "code",
   "execution_count": null,
   "metadata": {
    "id": "Wn6hU_uticvT"
   },
   "outputs": [],
   "source": [
    "from torch.utils.data import TensorDataset, DataLoader\n",
    "\n",
    "batch_size = 64\n",
    "\n",
    "train_dataset = TensorDataset(X_train, y_train)\n",
    "val_dataset = TensorDataset(X_val, y_val)\n",
    "test_dataset = TensorDataset(X_test, y_test)\n",
    "\n",
    "train_loader = DataLoader(train_dataset, batch_size=batch_size, shuffle=True)\n",
    "val_loader = DataLoader(val_dataset, batch_size=batch_size)\n",
    "test_loader = DataLoader(test_dataset, batch_size=batch_size)"
   ]
  },
  {
   "cell_type": "code",
   "execution_count": null,
   "metadata": {
    "id": "DatKSEMKNy21"
   },
   "outputs": [],
   "source": [
    "from sklearn.utils.class_weight import compute_class_weight\n",
    "import torch.nn.functional as F\n",
    "\n",
    "device = torch.device(\"cuda\" if torch.cuda.is_available() else \"cpu\")\n",
    "model = model.to(device)\n",
    "\n",
    "class_weights = compute_class_weight('balanced', classes=np.unique(y_train.numpy()), y=y_train.numpy())\n",
    "class_weights = torch.tensor(class_weights, dtype=torch.float).to(device)\n",
    "criterion = nn.CrossEntropyLoss(weight=class_weights)\n",
    "\n",
    "optimizer = torch.optim.Adam(model.parameters(), lr=1e-3)"
   ]
  },
  {
   "cell_type": "code",
   "execution_count": null,
   "metadata": {
    "id": "-Zl280rV4MkK"
   },
   "outputs": [],
   "source": [
    "def train(model, loader, optimizer, criterion):\n",
    "    model.train()\n",
    "    total_loss = 0\n",
    "    for batch_x, batch_y in loader:\n",
    "        batch_x, batch_y = batch_x.to(device), batch_y.to(device)\n",
    "\n",
    "        optimizer.zero_grad()\n",
    "        output = model(batch_x)\n",
    "        loss = criterion(output, batch_y)\n",
    "        loss.backward()\n",
    "        optimizer.step()\n",
    "\n",
    "        total_loss += loss.item()\n",
    "    return total_loss / len(loader)\n",
    "\n",
    "\n",
    "def evaluate(model, loader, criterion):\n",
    "    model.eval()\n",
    "    total_loss = 0\n",
    "    correct = 0\n",
    "    total = 0\n",
    "\n",
    "    with torch.no_grad():\n",
    "        for batch_x, batch_y in loader:\n",
    "            batch_x, batch_y = batch_x.to(device), batch_y.to(device)\n",
    "            output = model(batch_x)\n",
    "            loss = criterion(output, batch_y)\n",
    "            total_loss += loss.item()\n",
    "            preds = torch.argmax(output, dim=1)\n",
    "            correct += (preds == batch_y).sum().item()\n",
    "            total += batch_y.size(0)\n",
    "\n",
    "    acc = correct / total\n",
    "    return total_loss / len(loader), acc\n"
   ]
  },
  {
   "cell_type": "code",
   "execution_count": null,
   "metadata": {
    "colab": {
     "base_uri": "https://localhost:8080/"
    },
    "id": "2Ih15ZYZ4PT3",
    "outputId": "070b3270-0edf-4c66-9bdc-10f4ad5b395e"
   },
   "outputs": [
    {
     "name": "stdout",
     "output_type": "stream",
     "text": [
      "Época 1/20\n",
      "→ Tempo: 150.32s\n",
      "→ Loss treino: 1.7930\n",
      "→ Loss validação: 1.7919 | Acurácia: 0.3320\n",
      "----------------------------------------\n",
      "Época 2/20\n",
      "→ Tempo: 156.22s\n",
      "→ Loss treino: 1.7927\n",
      "→ Loss validação: 1.7933 | Acurácia: 0.1380\n",
      "----------------------------------------\n",
      "Época 3/20\n",
      "→ Tempo: 151.03s\n",
      "→ Loss treino: 1.7912\n",
      "→ Loss validação: 1.7936 | Acurácia: 0.3450\n",
      "----------------------------------------\n",
      "Época 4/20\n",
      "→ Tempo: 155.71s\n",
      "→ Loss treino: 1.7883\n",
      "→ Loss validação: 1.7923 | Acurácia: 0.0955\n",
      "----------------------------------------\n",
      "Época 5/20\n",
      "→ Tempo: 149.72s\n",
      "→ Loss treino: 1.7829\n",
      "→ Loss validação: 1.7988 | Acurácia: 0.0930\n",
      "----------------------------------------\n",
      "Época 6/20\n",
      "→ Tempo: 150.39s\n",
      "→ Loss treino: 1.7768\n",
      "→ Loss validação: 1.7962 | Acurácia: 0.3330\n",
      "----------------------------------------\n",
      "Época 7/20\n",
      "→ Tempo: 149.59s\n",
      "→ Loss treino: 1.7721\n",
      "→ Loss validação: 1.8094 | Acurácia: 0.2920\n",
      "----------------------------------------\n",
      "Época 8/20\n",
      "→ Tempo: 155.62s\n",
      "→ Loss treino: 1.7563\n",
      "→ Loss validação: 1.8117 | Acurácia: 0.1515\n",
      "----------------------------------------\n",
      "Época 9/20\n",
      "→ Tempo: 152.03s\n",
      "→ Loss treino: 1.7415\n",
      "→ Loss validação: 1.8452 | Acurácia: 0.1725\n",
      "----------------------------------------\n",
      "Época 10/20\n",
      "→ Tempo: 150.69s\n",
      "→ Loss treino: 1.7317\n",
      "→ Loss validação: 1.8189 | Acurácia: 0.2425\n",
      "----------------------------------------\n",
      "Época 11/20\n",
      "→ Tempo: 150.72s\n",
      "→ Loss treino: 1.7042\n",
      "→ Loss validação: 1.7585 | Acurácia: 0.1655\n",
      "----------------------------------------\n",
      "Época 12/20\n",
      "→ Tempo: 157.06s\n",
      "→ Loss treino: 1.6831\n",
      "→ Loss validação: 1.8420 | Acurácia: 0.2525\n",
      "----------------------------------------\n",
      "Época 13/20\n",
      "→ Tempo: 148.55s\n",
      "→ Loss treino: 1.6588\n",
      "→ Loss validação: 1.8224 | Acurácia: 0.2585\n",
      "----------------------------------------\n",
      "Época 14/20\n",
      "→ Tempo: 148.05s\n",
      "→ Loss treino: 1.6065\n",
      "→ Loss validação: 1.8024 | Acurácia: 0.2750\n",
      "----------------------------------------\n",
      "Época 15/20\n",
      "→ Tempo: 147.76s\n",
      "→ Loss treino: 1.5450\n",
      "→ Loss validação: 1.8600 | Acurácia: 0.2270\n",
      "----------------------------------------\n",
      "Época 16/20\n",
      "→ Tempo: 154.88s\n",
      "→ Loss treino: 1.3963\n",
      "→ Loss validação: 1.9007 | Acurácia: 0.3150\n",
      "----------------------------------------\n",
      "Época 17/20\n",
      "→ Tempo: 148.45s\n",
      "→ Loss treino: 1.2437\n",
      "→ Loss validação: 1.4901 | Acurácia: 0.3935\n",
      "----------------------------------------\n",
      "Época 18/20\n",
      "→ Tempo: 148.80s\n",
      "→ Loss treino: 1.0196\n",
      "→ Loss validação: 1.5003 | Acurácia: 0.5145\n",
      "----------------------------------------\n",
      "Época 19/20\n",
      "→ Tempo: 148.82s\n",
      "→ Loss treino: 0.8019\n",
      "→ Loss validação: 1.2741 | Acurácia: 0.5610\n",
      "----------------------------------------\n",
      "Época 20/20\n",
      "→ Tempo: 150.61s\n",
      "→ Loss treino: 0.6154\n",
      "→ Loss validação: 1.3055 | Acurácia: 0.6030\n",
      "----------------------------------------\n"
     ]
    }
   ],
   "source": [
    "# Loop de treinamento com salvamento do melhor modelo\n",
    "epochs = 20\n",
    "best_val_loss = float('inf')\n",
    "patience = 3\n",
    "trigger_times = 0\n",
    "\n",
    "for epoch in range(epochs):\n",
    "    start = time.time()\n",
    "    train_loss = train(model, train_loader, optimizer, criterion)\n",
    "    val_loss, val_acc = evaluate(model, val_loader, criterion)\n",
    "    end = time.time()\n",
    "\n",
    "    print(f\"Época {epoch+1}/{epochs}\")\n",
    "    print(f\"→ Tempo: {end-start:.2f}s\")\n",
    "    print(f\"→ Loss treino: {train_loss:.4f}\")\n",
    "    print(f\"→ Loss validação: {val_loss:.4f} | Acurácia: {val_acc:.4f}\")\n",
    "    print(\"-\" * 40)\n",
    "\n",
    "    # Early stopping simples\n",
    "    if val_loss < best_val_loss:\n",
    "        best_val_loss = val_loss\n",
    "        torch.save(model.state_dict(), \"best_model.pt\")"
   ]
  },
  {
   "cell_type": "code",
   "execution_count": null,
   "metadata": {
    "colab": {
     "base_uri": "https://localhost:8080/"
    },
    "id": "5YJE6t_c4RBH",
    "outputId": "30966492-310f-4128-fd06-4cecb0e84fe6"
   },
   "outputs": [
    {
     "name": "stdout",
     "output_type": "stream",
     "text": [
      "              precision    recall  f1-score   support\n",
      "\n",
      "     sadness       0.83      0.73      0.78       581\n",
      "         joy       0.72      0.38      0.50       695\n",
      "        love       0.21      0.19      0.20       159\n",
      "       anger       0.63      0.76      0.69       275\n",
      "        fear       0.81      0.79      0.80       224\n",
      "    surprise       0.07      0.42      0.12        66\n",
      "\n",
      "    accuracy                           0.57      2000\n",
      "   macro avg       0.54      0.55      0.51      2000\n",
      "weighted avg       0.69      0.57      0.60      2000\n",
      "\n"
     ]
    }
   ],
   "source": [
    "def test_model(model, loader):\n",
    "    model.eval()\n",
    "    all_preds = []\n",
    "    all_labels = []\n",
    "\n",
    "    with torch.no_grad():\n",
    "        for batch_x, batch_y in loader:\n",
    "            batch_x = batch_x.to(device)\n",
    "            output = model(batch_x)\n",
    "            preds = torch.argmax(output, dim=1)\n",
    "            all_preds.extend(preds.cpu().numpy())\n",
    "            all_labels.extend(batch_y.numpy())\n",
    "\n",
    "    return all_preds, all_labels\n",
    "\n",
    "# Carregar melhor modelo\n",
    "model.load_state_dict(torch.load(\"best_model.pt\"))\n",
    "\n",
    "# Predição e métricas\n",
    "preds, labels = test_model(model, test_loader)\n",
    "print(classification_report(labels, preds, target_names=dataset[\"train\"].features[\"label\"].names))\n"
   ]
  },
  {
   "cell_type": "code",
   "execution_count": null,
   "metadata": {
    "colab": {
     "base_uri": "https://localhost:8080/",
     "height": 507
    },
    "id": "GWOl4ANmN91f",
    "outputId": "0108982e-37a4-4c93-c7e9-a9c1820b87c9"
   },
   "outputs": [
    {
     "data": {
      "image/png": "[encoded data removed]",
      "text/plain": [
       "<Figure size 640x480 with 2 Axes>"
      ]
     },
     "metadata": {},
     "output_type": "display_data"
    }
   ],
   "source": [
    "cm = confusion_matrix(labels, preds)\n",
    "disp = ConfusionMatrixDisplay(confusion_matrix=cm, display_labels=dataset[\"train\"].features[\"label\"].names)\n",
    "disp.plot(cmap=\"Blues\", xticks_rotation=45)\n",
    "plt.title(\"Matriz de Confusão - Teste\")\n",
    "plt.show()\n"
   ]
  }
 ],
 "metadata": {
  "colab": {
   "provenance": []
  },
  "kernelspec": {
   "display_name": "Python 3",
   "name": "python3"
  },
  "language_info": {
   "name": "python"
  }
 },
 "nbformat": 4,
 "nbformat_minor": 0
}
